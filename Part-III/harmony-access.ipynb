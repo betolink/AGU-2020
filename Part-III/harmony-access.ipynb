{
 "cells": [
  {
   "cell_type": "code",
   "execution_count": null,
   "metadata": {},
   "outputs": [],
   "source": [
    "from harmony.harmony import HarmonyJob, Harmony\n",
    "from getpass import getpass\n",
    "from cmr import CollectionQuery"
   ]
  },
  {
   "cell_type": "code",
   "execution_count": null,
   "metadata": {},
   "outputs": [],
   "source": [
    "cmr = CollectionQuery()\n",
    "q = cmr.keyword(\"SMAP\")\n",
    "q.get(3)"
   ]
  },
  {
   "cell_type": "code",
   "execution_count": null,
   "metadata": {},
   "outputs": [],
   "source": [
    "# collection_id = 'C1227495594-LANCEMODIS'\n",
    "collection_id = 'C1940468263-POCLOUD'\n",
    "#-106.029053,40.304665,-105.227051,40.713956\n",
    "\n",
    "#     'lat':'(-2:6)',\n",
    "#     'lon':'(-52:-43)',\n",
    "\n",
    "harmony_params = {\n",
    "    'collection_id': collection_id,\n",
    "    'ogc-api-coverages_version': '1.0.0',\n",
    "    'variable': 'all',\n",
    "    'lat':'(40:41)',\n",
    "    'lon':'(-107:-105)',\n",
    "    'start': '2020-06-01T00:00:00Z',\n",
    "    'stop':'2020-06-30T23:59:59Z',\n",
    "    'format': 'application/x-zarr',\n",
    "}\n",
    "\n",
    "password = getpass('Password: ')\n",
    "\n",
    "credentials = {\n",
    "    'user': 'betolink',\n",
    "    'password': password\n",
    "}\n",
    "\n",
    "client = Harmony(credentials)"
   ]
  },
  {
   "cell_type": "code",
   "execution_count": null,
   "metadata": {},
   "outputs": [],
   "source": [
    "# collection info\n",
    "client.collection(collection_id)"
   ]
  },
  {
   "cell_type": "code",
   "execution_count": null,
   "metadata": {},
   "outputs": [],
   "source": [
    "# request URI\n",
    "client.subset_uri(harmony_params)"
   ]
  },
  {
   "cell_type": "code",
   "execution_count": null,
   "metadata": {},
   "outputs": [],
   "source": [
    "# subset Harmony\n",
    "job = client.subset(harmony_params)"
   ]
  },
  {
   "cell_type": "code",
   "execution_count": null,
   "metadata": {},
   "outputs": [],
   "source": [
    "# job status\n",
    "job.status()"
   ]
  },
  {
   "cell_type": "code",
   "execution_count": null,
   "metadata": {},
   "outputs": [],
   "source": [
    "# Job stac uri\n",
    "job.stac_uri()"
   ]
  },
  {
   "cell_type": "code",
   "execution_count": null,
   "metadata": {},
   "outputs": [],
   "source": [
    "outzarr = job.s3_file_uris()"
   ]
  },
  {
   "cell_type": "code",
   "execution_count": null,
   "metadata": {},
   "outputs": [],
   "source": [
    "# Pystac catalog\n",
    "cat = job.stac_catalog()"
   ]
  },
  {
   "cell_type": "code",
   "execution_count": null,
   "metadata": {},
   "outputs": [],
   "source": [
    "# cat.describe(include_hrefs=True)\n",
    "from pprint import pprint\n",
    "items = cat.get_all_items()\n",
    "for item in items:\n",
    "#     pprint(item.__dict__)\n",
    "    for k in item.assets:\n",
    "        print(k)"
   ]
  },
  {
   "cell_type": "code",
   "execution_count": null,
   "metadata": {},
   "outputs": [],
   "source": [
    "outzarr[1]"
   ]
  },
  {
   "cell_type": "code",
   "execution_count": null,
   "metadata": {},
   "outputs": [],
   "source": [
    "job.s3_download_file(outzarr[1])"
   ]
  },
  {
   "cell_type": "code",
   "execution_count": null,
   "metadata": {},
   "outputs": [],
   "source": [
    "import s3fs\n",
    "import zarr\n",
    "\n",
    "s3_keys = client.aws_keys\n",
    "\n",
    "\n",
    "zarr_fs = s3fs.S3FileSystem(\n",
    "    key=s3_keys['AccessKeyId'],\n",
    "    secret=s3_keys['SecretAccessKey'],\n",
    "    token=s3_keys['SessionToken'],\n",
    "    client_kwargs={'region_name':'us-west-2'},\n",
    ")\n",
    "\n",
    "zarr_store = zarr_fs.get_mapper(root=outzarr[1], check=False)\n",
    "\n",
    "zarr_dataset = zarr.open(zarr_store)\n",
    "\n",
    "print(zarr_dataset.tree())"
   ]
  },
  {
   "cell_type": "code",
   "execution_count": null,
   "metadata": {},
   "outputs": [],
   "source": [
    "# xarray\n",
    "\n",
    "import xarray as xr\n",
    "ds = xr.open_zarr(zarr_store)\n",
    "print(ds)"
   ]
  }
 ],
 "metadata": {
  "kernelspec": {
   "display_name": "Python 3",
   "language": "python",
   "name": "python3"
  },
  "language_info": {
   "codemirror_mode": {
    "name": "ipython",
    "version": 3
   },
   "file_extension": ".py",
   "mimetype": "text/x-python",
   "name": "python",
   "nbconvert_exporter": "python",
   "pygments_lexer": "ipython3",
   "version": "3.7.8"
  }
 },
 "nbformat": 4,
 "nbformat_minor": 4
}
